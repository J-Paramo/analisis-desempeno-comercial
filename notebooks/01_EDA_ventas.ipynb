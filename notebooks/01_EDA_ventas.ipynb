{
 "cells": [
  {
   "cell_type": "code",
   "execution_count": 14,
   "id": "9cbbc3ad-8492-4ca7-aab7-eb4c36f75a33",
   "metadata": {},
   "outputs": [
    {
     "data": {
      "text/html": [
       "<div>\n",
       "<style scoped>\n",
       "    .dataframe tbody tr th:only-of-type {\n",
       "        vertical-align: middle;\n",
       "    }\n",
       "\n",
       "    .dataframe tbody tr th {\n",
       "        vertical-align: top;\n",
       "    }\n",
       "\n",
       "    .dataframe thead th {\n",
       "        text-align: right;\n",
       "    }\n",
       "</style>\n",
       "<table border=\"1\" class=\"dataframe\">\n",
       "  <thead>\n",
       "    <tr style=\"text-align: right;\">\n",
       "      <th></th>\n",
       "      <th>idtabla</th>\n",
       "      <th>agente</th>\n",
       "      <th>supervisor</th>\n",
       "      <th>fecha</th>\n",
       "      <th>paquete</th>\n",
       "      <th>precio_paquete</th>\n",
       "      <th>Tipo</th>\n",
       "      <th>puntos</th>\n",
       "      <th>nombre_agente</th>\n",
       "      <th>nombre_supervisor</th>\n",
       "    </tr>\n",
       "  </thead>\n",
       "  <tbody>\n",
       "    <tr>\n",
       "      <th>0</th>\n",
       "      <td>65956</td>\n",
       "      <td>5945</td>\n",
       "      <td>5468</td>\n",
       "      <td>2025-09-15</td>\n",
       "      <td>DISNEY STANDARD CON ANUNCIOS 60 60</td>\n",
       "      <td>60.0</td>\n",
       "      <td>APLICACION</td>\n",
       "      <td>12.5</td>\n",
       "      <td>SANDRA MICAELA</td>\n",
       "      <td>ESTHER</td>\n",
       "    </tr>\n",
       "    <tr>\n",
       "      <th>1</th>\n",
       "      <td>90262</td>\n",
       "      <td>4125</td>\n",
       "      <td>3942</td>\n",
       "      <td>2025-09-12</td>\n",
       "      <td>PLAN AT&amp;T 100 100</td>\n",
       "      <td>100.0</td>\n",
       "      <td>TELEFONIA</td>\n",
       "      <td>25.0</td>\n",
       "      <td>JORGE LUIS</td>\n",
       "      <td>DORA LUZ</td>\n",
       "    </tr>\n",
       "    <tr>\n",
       "      <th>2</th>\n",
       "      <td>181595</td>\n",
       "      <td>5872</td>\n",
       "      <td>5720</td>\n",
       "      <td>2025-09-12</td>\n",
       "      <td>DISNEY STANDARD CON ANUNCIOS 60 60</td>\n",
       "      <td>60.0</td>\n",
       "      <td>APLICACION</td>\n",
       "      <td>12.5</td>\n",
       "      <td>MARBELLA</td>\n",
       "      <td>PAULINA</td>\n",
       "    </tr>\n",
       "    <tr>\n",
       "      <th>3</th>\n",
       "      <td>189720</td>\n",
       "      <td>6016</td>\n",
       "      <td>5468</td>\n",
       "      <td>2025-09-22</td>\n",
       "      <td>NETFLIX ANUNCIOS 80 80</td>\n",
       "      <td>80.0</td>\n",
       "      <td>APLICACION</td>\n",
       "      <td>12.5</td>\n",
       "      <td>VICTOR</td>\n",
       "      <td>ESTHER</td>\n",
       "    </tr>\n",
       "    <tr>\n",
       "      <th>4</th>\n",
       "      <td>197078</td>\n",
       "      <td>6056</td>\n",
       "      <td>3942</td>\n",
       "      <td>2025-09-19</td>\n",
       "      <td>PLAN AT&amp;T 100 100</td>\n",
       "      <td>100.0</td>\n",
       "      <td>TELEFONIA</td>\n",
       "      <td>25.0</td>\n",
       "      <td>CLAUDIA</td>\n",
       "      <td>DORA LUZ</td>\n",
       "    </tr>\n",
       "  </tbody>\n",
       "</table>\n",
       "</div>"
      ],
      "text/plain": [
       "   idtabla  agente  supervisor       fecha  \\\n",
       "0    65956    5945        5468  2025-09-15   \n",
       "1    90262    4125        3942  2025-09-12   \n",
       "2   181595    5872        5720  2025-09-12   \n",
       "3   189720    6016        5468  2025-09-22   \n",
       "4   197078    6056        3942  2025-09-19   \n",
       "\n",
       "                              paquete  precio_paquete        Tipo  puntos  \\\n",
       "0  DISNEY STANDARD CON ANUNCIOS 60 60            60.0  APLICACION    12.5   \n",
       "1                   PLAN AT&T 100 100           100.0   TELEFONIA    25.0   \n",
       "2  DISNEY STANDARD CON ANUNCIOS 60 60            60.0  APLICACION    12.5   \n",
       "3              NETFLIX ANUNCIOS 80 80            80.0  APLICACION    12.5   \n",
       "4                   PLAN AT&T 100 100           100.0   TELEFONIA    25.0   \n",
       "\n",
       "    nombre_agente nombre_supervisor  \n",
       "0  SANDRA MICAELA            ESTHER  \n",
       "1      JORGE LUIS          DORA LUZ  \n",
       "2        MARBELLA           PAULINA  \n",
       "3          VICTOR            ESTHER  \n",
       "4         CLAUDIA          DORA LUZ  "
      ]
     },
     "execution_count": 14,
     "metadata": {},
     "output_type": "execute_result"
    }
   ],
   "source": [
    "# Librerias\n",
    "import pandas as pd\n",
    "import numpy as np\n",
    "import matplotlib.pyplot as plt\n",
    "\n",
    "# url del Dataset\n",
    "url = '../data/processed/dataset_limpio.csv'\n",
    "df = pd.read_csv(url)\n",
    "\n",
    "df.head()"
   ]
  },
  {
   "cell_type": "code",
   "execution_count": 15,
   "id": "5ca5e58f-ba29-47bb-be30-db67fdf811ef",
   "metadata": {},
   "outputs": [
    {
     "data": {
      "text/plain": [
       "supervisor  nombre_supervisor\n",
       "3942        DORA LUZ             50227.5\n",
       "5468        ESTHER               45227.5\n",
       "4714        DAVID                44852.5\n",
       "5720        PAULINA              43950.0\n",
       "5380        DIANA ILSE           42475.0\n",
       "Name: puntos, dtype: float64"
      ]
     },
     "execution_count": 15,
     "metadata": {},
     "output_type": "execute_result"
    }
   ],
   "source": [
    "# Volumen de ventas por empleado y por supervisor\n",
    "# Ventas por agente\n",
    "ventas_por_agente = df.groupby(['agente', 'nombre_agente'])['puntos'].sum().sort_values(ascending=False)\n",
    "\n",
    "# Ventas por supervisor\n",
    "ventas_por_supervisor = df.groupby(['supervisor', 'nombre_supervisor'])['puntos'].sum().sort_values(ascending=False)\n",
    "ventas_por_supervisor.head()"
   ]
  },
  {
   "cell_type": "code",
   "execution_count": 16,
   "id": "46db1168-80e4-44b4-a8c5-5419f83ac7c1",
   "metadata": {},
   "outputs": [
    {
     "data": {
      "text/plain": [
       "agente  nombre_agente\n",
       "5468    ESTHER           147.591133\n",
       "4714    DAVID            146.226415\n",
       "5380    DIANA ILSE       143.974093\n",
       "5532    MARIBEL          141.212670\n",
       "3942    DORA LUZ         134.726141\n",
       "Name: precio_paquete, dtype: float64"
      ]
     },
     "execution_count": 16,
     "metadata": {},
     "output_type": "execute_result"
    }
   ],
   "source": [
    "# Ticket promedio por empleado\n",
    "ticket_promedio_por_agente = df.groupby(['agente', 'nombre_agente'])['precio_paquete'].mean().sort_values(ascending=False)\n",
    "ticket_promedio_por_agente.head()"
   ]
  },
  {
   "cell_type": "code",
   "execution_count": 28,
   "id": "3d765a35-0354-4903-a5c1-aeeb09e157ec",
   "metadata": {},
   "outputs": [
    {
     "data": {
      "image/png": "[encoded data removed]",
      "text/plain": [
       "<Figure size 1000x600 with 1 Axes>"
      ]
     },
     "metadata": {},
     "output_type": "display_data"
    }
   ],
   "source": [
    "# Comparativo entre equipos\n",
    "agentes_por_supervisor = df.groupby('nombre_supervisor')['agente'].nunique().sort_values(ascending=False)\n",
    "puntos_por_equipo = df.groupby(['supervisor','nombre_supervisor'])['puntos'].sum()\n",
    "puntos_promedio_equipo = (puntos_por_equipo / agentes_por_supervisor).sort_values(ascending=False)\n",
    "puntos_promedio_equipo.head()\n",
    "\n",
    "# Grafico comparativo\n",
    "fig, ax = plt.subplots(figsize=(10,6))\n",
    "puntos_promedio_equipo.plot(kind='bar', color='blue', edgecolor='black', ax=ax)\n",
    "plt.title('Puntos Promedio por Supervisor', fontsize=16)\n",
    "plt.xlabel('Supervisor', fontsize=12)\n",
    "plt.ylabel('Puntos', fontsize=12)\n",
    "plt.xticks(rotation=90, ha='right')\n",
    "\n",
    "for i, val in enumerate(puntos_promedio_equipo):\n",
    "    ax.text(i, val, f'{val:.0f}', ha='center', va='bottom', fontsize=10, color='black')\n",
    "\n",
    "plt.tight_layout()\n",
    "plt.show()"
   ]
  },
  {
   "cell_type": "code",
   "execution_count": null,
   "id": "645e6294-d266-4173-88d8-e3706345ba90",
   "metadata": {},
   "outputs": [],
   "source": []
  }
 ],
 "metadata": {
  "kernelspec": {
   "display_name": "Python 3 (ipykernel)",
   "language": "python",
   "name": "python3"
  },
  "language_info": {
   "codemirror_mode": {
    "name": "ipython",
    "version": 3
   },
   "file_extension": ".py",
   "mimetype": "text/x-python",
   "name": "python",
   "nbconvert_exporter": "python",
   "pygments_lexer": "ipython3",
   "version": "3.13.5"
  }
 },
 "nbformat": 4,
 "nbformat_minor": 5
}
